{
 "cells": [
  {
   "cell_type": "code",
   "execution_count": 1,
   "metadata": {},
   "outputs": [
    {
     "name": "stdout",
     "output_type": "stream",
     "text": [
      "What is your name? sai\n",
      "Good Luck !  sai\n",
      "Guess the characters\n",
      "_\n",
      "_\n",
      "_\n",
      "guess a character:renegade\n",
      "Wrong\n",
      "You have 11 more guesses\n",
      "r\n",
      "_\n",
      "_\n",
      "guess a character:roy\n",
      "r\n",
      "o\n",
      "y\n",
      "You Win\n",
      "The word is:  roy\n"
     ]
    }
   ],
   "source": [
    "import random\n",
    "\n",
    "name = input(\"What is your name? \")\n",
    "\n",
    "print(\"Good Luck ! \", name)\n",
    "\n",
    "movies = ['roy', 'conman', 'syeraa', 'provoge', 'tenet', 'player',  'renegade', 'bheem', 'ironman', 'geeks'] \n",
    "\n",
    "word = random.choice(movies)\n",
    "\n",
    "print(\"Guess the characters\")\n",
    "\n",
    "guesses = ''\n",
    "\n",
    "turns = 12\n",
    "\n",
    "\n",
    "while turns > 0:\n",
    "     failed = 0\n",
    "\n",
    "    for char in word: \n",
    "    if char in guesses: \n",
    "    print(char)\n",
    "    else: \n",
    "    print(\"_\")  \n",
    "     failed += 1\n",
    "\n",
    "    if failed == 0:\n",
    "    print(\"You Win\") \n",
    "\n",
    "    print(\"The word is: \", bheem) \n",
    "     break\n",
    "\n",
    "    guess = input(\"guess a character:\")\n",
    " \n",
    "    guesses += guess \n",
    "\n",
    "    if guess not in word:\n",
    "\n",
    "    turns -= 1\n",
    "\n",
    "    print(\"Wrong\")\n",
    "\n",
    "    print(\"You have\", + turns, 'more guesses')\n",
    "\n",
    "     if turns == 0:\n",
    "    print(\"You Loose\")\n"
   ]
  },
  {
   "cell_type": "code",
   "execution_count": null,
   "metadata": {},
   "outputs": [],
   "source": []
  }
 ],
 "metadata": {
  "kernelspec": {
   "display_name": "Python 3",
   "language": "python",
   "name": "python3"
  },
  "language_info": {
   "codemirror_mode": {
    "name": "ipython",
    "version": 3
   },
   "file_extension": ".py",
   "mimetype": "text/x-python",
   "name": "python",
   "nbconvert_exporter": "python",
   "pygments_lexer": "ipython3",
   "version": "3.7.6"
  }
 },
 "nbformat": 4,
 "nbformat_minor": 4
}
